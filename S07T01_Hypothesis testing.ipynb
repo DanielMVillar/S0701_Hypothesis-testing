{
 "cells": [
  {
   "cell_type": "markdown",
   "id": "278138da",
   "metadata": {},
   "source": [
    "### Exercici 1\n",
    "#### Agafa un conjunt de dades de tema esportiu que t'agradi i selecciona un atribut del conjunt de dades. Calcula el p-valor i digues si rebutja la hipòtesi nul·la agafant un alfa de 5%. "
   ]
  },
  {
   "cell_type": "code",
   "execution_count": 2,
   "id": "a5419063",
   "metadata": {},
   "outputs": [],
   "source": [
    "import numpy as np #library for scientific computing\n",
    "import pandas as pd #library for dataframes \n",
    "import matplotlib.pyplot as plt #graphic library\n",
    "import seaborn as sns #advanced graphic library based on matplotlib\n",
    "import statistics #library for statistics\n",
    "import warnings #library to manage warnings\n",
    "import scipy #library with algorithms for statistics and scientific computing\n",
    "\n",
    "warnings.filterwarnings('ignore')"
   ]
  },
  {
   "cell_type": "code",
   "execution_count": 3,
   "id": "ff947f6d",
   "metadata": {},
   "outputs": [
    {
     "data": {
      "text/html": [
       "<div>\n",
       "<style scoped>\n",
       "    .dataframe tbody tr th:only-of-type {\n",
       "        vertical-align: middle;\n",
       "    }\n",
       "\n",
       "    .dataframe tbody tr th {\n",
       "        vertical-align: top;\n",
       "    }\n",
       "\n",
       "    .dataframe thead th {\n",
       "        text-align: right;\n",
       "    }\n",
       "</style>\n",
       "<table border=\"1\" class=\"dataframe\">\n",
       "  <thead>\n",
       "    <tr style=\"text-align: right;\">\n",
       "      <th></th>\n",
       "      <th>R_fighter</th>\n",
       "      <th>B_fighter</th>\n",
       "      <th>Referee</th>\n",
       "      <th>date</th>\n",
       "      <th>location</th>\n",
       "      <th>Winner</th>\n",
       "      <th>title_bout</th>\n",
       "      <th>weight_class</th>\n",
       "      <th>B_avg_KD</th>\n",
       "      <th>B_avg_opp_KD</th>\n",
       "      <th>...</th>\n",
       "      <th>R_win_by_Decision_Unanimous</th>\n",
       "      <th>R_win_by_KO/TKO</th>\n",
       "      <th>R_win_by_Submission</th>\n",
       "      <th>R_win_by_TKO_Doctor_Stoppage</th>\n",
       "      <th>R_Stance</th>\n",
       "      <th>R_Height_cms</th>\n",
       "      <th>R_Reach_cms</th>\n",
       "      <th>R_Weight_lbs</th>\n",
       "      <th>B_age</th>\n",
       "      <th>R_age</th>\n",
       "    </tr>\n",
       "  </thead>\n",
       "  <tbody>\n",
       "    <tr>\n",
       "      <th>0</th>\n",
       "      <td>Adrian Yanez</td>\n",
       "      <td>Gustavo Lopez</td>\n",
       "      <td>Chris Tognoni</td>\n",
       "      <td>2021-03-20</td>\n",
       "      <td>Las Vegas, Nevada, USA</td>\n",
       "      <td>Red</td>\n",
       "      <td>False</td>\n",
       "      <td>Bantamweight</td>\n",
       "      <td>0.000</td>\n",
       "      <td>0.0</td>\n",
       "      <td>...</td>\n",
       "      <td>0</td>\n",
       "      <td>1</td>\n",
       "      <td>0</td>\n",
       "      <td>0</td>\n",
       "      <td>Orthodox</td>\n",
       "      <td>170.18</td>\n",
       "      <td>177.80</td>\n",
       "      <td>135.0</td>\n",
       "      <td>31.0</td>\n",
       "      <td>27.0</td>\n",
       "    </tr>\n",
       "    <tr>\n",
       "      <th>1</th>\n",
       "      <td>Trevin Giles</td>\n",
       "      <td>Roman Dolidze</td>\n",
       "      <td>Herb Dean</td>\n",
       "      <td>2021-03-20</td>\n",
       "      <td>Las Vegas, Nevada, USA</td>\n",
       "      <td>Red</td>\n",
       "      <td>False</td>\n",
       "      <td>Middleweight</td>\n",
       "      <td>0.500</td>\n",
       "      <td>0.0</td>\n",
       "      <td>...</td>\n",
       "      <td>0</td>\n",
       "      <td>3</td>\n",
       "      <td>0</td>\n",
       "      <td>0</td>\n",
       "      <td>Orthodox</td>\n",
       "      <td>182.88</td>\n",
       "      <td>187.96</td>\n",
       "      <td>185.0</td>\n",
       "      <td>32.0</td>\n",
       "      <td>28.0</td>\n",
       "    </tr>\n",
       "    <tr>\n",
       "      <th>2</th>\n",
       "      <td>Tai Tuivasa</td>\n",
       "      <td>Harry Hunsucker</td>\n",
       "      <td>Herb Dean</td>\n",
       "      <td>2021-03-20</td>\n",
       "      <td>Las Vegas, Nevada, USA</td>\n",
       "      <td>Red</td>\n",
       "      <td>False</td>\n",
       "      <td>Heavyweight</td>\n",
       "      <td>NaN</td>\n",
       "      <td>NaN</td>\n",
       "      <td>...</td>\n",
       "      <td>1</td>\n",
       "      <td>3</td>\n",
       "      <td>0</td>\n",
       "      <td>0</td>\n",
       "      <td>Southpaw</td>\n",
       "      <td>187.96</td>\n",
       "      <td>190.50</td>\n",
       "      <td>264.0</td>\n",
       "      <td>32.0</td>\n",
       "      <td>28.0</td>\n",
       "    </tr>\n",
       "    <tr>\n",
       "      <th>3</th>\n",
       "      <td>Cheyanne Buys</td>\n",
       "      <td>Montserrat Conejo</td>\n",
       "      <td>Mark Smith</td>\n",
       "      <td>2021-03-20</td>\n",
       "      <td>Las Vegas, Nevada, USA</td>\n",
       "      <td>Blue</td>\n",
       "      <td>False</td>\n",
       "      <td>WomenStrawweight</td>\n",
       "      <td>NaN</td>\n",
       "      <td>NaN</td>\n",
       "      <td>...</td>\n",
       "      <td>0</td>\n",
       "      <td>0</td>\n",
       "      <td>0</td>\n",
       "      <td>0</td>\n",
       "      <td>Switch</td>\n",
       "      <td>160.02</td>\n",
       "      <td>160.02</td>\n",
       "      <td>115.0</td>\n",
       "      <td>28.0</td>\n",
       "      <td>25.0</td>\n",
       "    </tr>\n",
       "    <tr>\n",
       "      <th>4</th>\n",
       "      <td>Marion Reneau</td>\n",
       "      <td>Macy Chiasson</td>\n",
       "      <td>Mark Smith</td>\n",
       "      <td>2021-03-20</td>\n",
       "      <td>Las Vegas, Nevada, USA</td>\n",
       "      <td>Blue</td>\n",
       "      <td>False</td>\n",
       "      <td>WomenBantamweight</td>\n",
       "      <td>0.125</td>\n",
       "      <td>0.0</td>\n",
       "      <td>...</td>\n",
       "      <td>1</td>\n",
       "      <td>2</td>\n",
       "      <td>2</td>\n",
       "      <td>0</td>\n",
       "      <td>Orthodox</td>\n",
       "      <td>167.64</td>\n",
       "      <td>172.72</td>\n",
       "      <td>135.0</td>\n",
       "      <td>29.0</td>\n",
       "      <td>43.0</td>\n",
       "    </tr>\n",
       "  </tbody>\n",
       "</table>\n",
       "<p>5 rows × 144 columns</p>\n",
       "</div>"
      ],
      "text/plain": [
       "       R_fighter          B_fighter        Referee        date  \\\n",
       "0   Adrian Yanez      Gustavo Lopez  Chris Tognoni  2021-03-20   \n",
       "1   Trevin Giles      Roman Dolidze      Herb Dean  2021-03-20   \n",
       "2    Tai Tuivasa    Harry Hunsucker      Herb Dean  2021-03-20   \n",
       "3  Cheyanne Buys  Montserrat Conejo     Mark Smith  2021-03-20   \n",
       "4  Marion Reneau      Macy Chiasson     Mark Smith  2021-03-20   \n",
       "\n",
       "                 location Winner  title_bout       weight_class  B_avg_KD  \\\n",
       "0  Las Vegas, Nevada, USA    Red       False       Bantamweight     0.000   \n",
       "1  Las Vegas, Nevada, USA    Red       False       Middleweight     0.500   \n",
       "2  Las Vegas, Nevada, USA    Red       False        Heavyweight       NaN   \n",
       "3  Las Vegas, Nevada, USA   Blue       False   WomenStrawweight       NaN   \n",
       "4  Las Vegas, Nevada, USA   Blue       False  WomenBantamweight     0.125   \n",
       "\n",
       "   B_avg_opp_KD  ...  R_win_by_Decision_Unanimous  R_win_by_KO/TKO  \\\n",
       "0           0.0  ...                            0                1   \n",
       "1           0.0  ...                            0                3   \n",
       "2           NaN  ...                            1                3   \n",
       "3           NaN  ...                            0                0   \n",
       "4           0.0  ...                            1                2   \n",
       "\n",
       "   R_win_by_Submission  R_win_by_TKO_Doctor_Stoppage  R_Stance  R_Height_cms  \\\n",
       "0                    0                             0  Orthodox        170.18   \n",
       "1                    0                             0  Orthodox        182.88   \n",
       "2                    0                             0  Southpaw        187.96   \n",
       "3                    0                             0    Switch        160.02   \n",
       "4                    2                             0  Orthodox        167.64   \n",
       "\n",
       "   R_Reach_cms  R_Weight_lbs  B_age  R_age  \n",
       "0       177.80         135.0   31.0   27.0  \n",
       "1       187.96         185.0   32.0   28.0  \n",
       "2       190.50         264.0   32.0   28.0  \n",
       "3       160.02         115.0   28.0   25.0  \n",
       "4       172.72         135.0   29.0   43.0  \n",
       "\n",
       "[5 rows x 144 columns]"
      ]
     },
     "execution_count": 3,
     "metadata": {},
     "output_type": "execute_result"
    }
   ],
   "source": [
    "#we obtain the dataset from Kaggle (https://www.kaggle.com/rajeevw/ufcdata)\n",
    "#the dataset is about UFC-Fight historical data from 1993 to 2021. UFC is a Mixed Martial Arts USA league.\n",
    "\n",
    "df_ufc = pd.read_csv('ufc.csv') \n",
    "\n",
    "df_ufc.head()"
   ]
  },
  {
   "cell_type": "code",
   "execution_count": 4,
   "id": "685e22c8",
   "metadata": {},
   "outputs": [
    {
     "name": "stdout",
     "output_type": "stream",
     "text": [
      "Shape (rows x columns): (6012, 144)\n",
      "Dimensions: 2\n",
      "Columns: Index(['R_fighter', 'B_fighter', 'Referee', 'date', 'location', 'Winner',\n",
      "       'title_bout', 'weight_class', 'B_avg_KD', 'B_avg_opp_KD',\n",
      "       ...\n",
      "       'R_win_by_Decision_Unanimous', 'R_win_by_KO/TKO', 'R_win_by_Submission',\n",
      "       'R_win_by_TKO_Doctor_Stoppage', 'R_Stance', 'R_Height_cms',\n",
      "       'R_Reach_cms', 'R_Weight_lbs', 'B_age', 'R_age'],\n",
      "      dtype='object', length=144)\n",
      "Nan values per variable:\n",
      "R_fighter         0\n",
      "B_fighter         0\n",
      "Referee          32\n",
      "date              0\n",
      "location          0\n",
      "               ... \n",
      "R_Height_cms      4\n",
      "R_Reach_cms     406\n",
      "R_Weight_lbs      2\n",
      "B_age           172\n",
      "R_age            63\n",
      "Length: 144, dtype: int64\n"
     ]
    }
   ],
   "source": [
    "print(\"Shape (rows x columns): \" + str(df_ufc.shape))\n",
    "print(\"Dimensions: \" + str(df_ufc.ndim))\n",
    "print(\"Columns: \" + str(df_ufc.columns))\n",
    "print('Nan values per variable:\\n' + str(df_ufc.isna().sum()))"
   ]
  },
  {
   "cell_type": "code",
   "execution_count": 5,
   "id": "891f8cb2",
   "metadata": {},
   "outputs": [
    {
     "name": "stdout",
     "output_type": "stream",
     "text": [
      "Types of objects:\n",
      "R_fighter        object\n",
      "B_fighter        object\n",
      "Referee          object\n",
      "date             object\n",
      "location         object\n",
      "                 ...   \n",
      "R_Height_cms    float64\n",
      "R_Reach_cms     float64\n",
      "R_Weight_lbs    float64\n",
      "B_age           float64\n",
      "R_age           float64\n",
      "Length: 144, dtype: object\n"
     ]
    }
   ],
   "source": [
    "print(\"Types of objects:\\n\" + str(df_ufc.dtypes))\n",
    "#types of each variable"
   ]
  },
  {
   "cell_type": "markdown",
   "id": "d86798f0",
   "metadata": {},
   "source": [
    "Explanation of the dataframe:\n",
    "\n",
    "Each observation represents a fight.\n",
    "\n",
    "An R or a B before the description is refering to Red (R) or Blue (B) corner. \n",
    "Red corner usually is for the favorite fighter or with the most recognized name.\n",
    "Blue corner usually is for the underdog or the less recognized name"
   ]
  },
  {
   "cell_type": "code",
   "execution_count": 25,
   "id": "b7e248a3",
   "metadata": {},
   "outputs": [
    {
     "name": "stdout",
     "output_type": "stream",
     "text": [
      "The T-score is=-1.833, and the p-value is=0.083\n",
      "the probability to obtain this T-score is 8.258 %\n",
      "which is bigger than alpha value (5%), then we fail to reject the null hypothesis\n"
     ]
    },
    {
     "data": {
      "image/png": "[encoded data removed]",
      "text/plain": [
       "<Figure size 429.125x360 with 1 Axes>"
      ]
     },
     "metadata": {
      "needs_background": "light"
     },
     "output_type": "display_data"
    }
   ],
   "source": [
    "#hypothesis 0 or null hypothesis (H0): A statement about a population parameter. It has always de equal sign.\n",
    "#hypothesis 1 or alternative hypothesis (H1): A statement that contradicts the null hypothesis. It must be <,> or not equal tan HO. \n",
    "\n",
    "#test statistic: random variable calculated from sample data and used in hypothesis test to calculate p-value.\n",
    "#there are 4 main test statistics: Z-Test, T-Test, ANOVA, Chi-square test\n",
    "#most common methods are T-score and Z-score for normal distributions\n",
    "\n",
    "#z-score (also called standard score): it is a measure of how many standard \n",
    "#deviations below or above the population mean a raw score is\n",
    "# z = (x-u)/o where x=raw score, u=population mean and o=population standard deviation\n",
    "\n",
    "#when to use T-Test (Student T test): sample size below 30; unknown population standard deviation\n",
    "#when to use Z-Test: sample size above 30; known population standard deviation\n",
    "\n",
    "#p-value (or calculated probability): probability of obtaining the observed results of a test by chance\n",
    "#if p-value <= alpha (aka significance level) : significant result, reject null hypothesis\n",
    "#if p-value > alpha : not significant result, fail to reject the null hypothesis\n",
    "\n",
    "#steps to calculate to perform an Hypothesis testing:\n",
    "#1.-State your null and alternative hypothesis\n",
    "#2.-Set significance level or alpha\n",
    "#3.-Collect sample data and calculate sample statistics\n",
    "#4.-Calculate the p-value given sample statistics\n",
    "#5.-Reject or do not reject the null hypothesis\n",
    "\n",
    "#we want to check the hypothesis that says most common height to be a fighter is 183 cm\n",
    "#hypothesis 0: height = 183\n",
    "#hypothesis 1: height < 183\n",
    "\n",
    "#selecting data from fighters height\n",
    "red_height = df_ufc['R_Height_cms']\n",
    "blue_height = df_ufc['B_Height_cms']\n",
    "Height = pd.concat([red_height, blue_height], ignore_index=True, sort=False)\n",
    "\n",
    "#removing nan data and rounding\n",
    "Height = Height.dropna()\n",
    "Height = Height.round(decimals=0)\n",
    "\n",
    "#creating a dataframe\n",
    "df_Height = pd.DataFrame(Height, columns=['Height'])\n",
    "\n",
    "#plotting data to check if it is a normal distribution\n",
    "fig = sns.displot(data=df_Height, kde=True, binwidth=1)\n",
    "fig.set(title='Data Distribution', xlabel='Height (cm)', ylabel='Count')\n",
    "#we can observe that some heights are not represented, probably because incorrect conversion from feet and inches to cm\n",
    "\n",
    "#taking a sample (20 observations)\n",
    "df_Height_sample = df_Height.sample(20)\n",
    "\n",
    "#applying T-Test to obtain p-value\n",
    "stat, pval = scipy.stats.ttest_1samp(df_Height_sample, 183)\n",
    "pct = round(float(pval*100),3)\n",
    "\n",
    "print('The T-score is=%.3f, and the p-value is=%.3f' % (stat,pval))\n",
    "\n",
    "#according to p value, if alpha value is 0.05 or 5%\n",
    "\n",
    "print('the probability to obtain this T-score is',pct,'%')\n",
    "if pval < 0.05:    \n",
    "   print(\"which is smaller than alpha (5%), then we reject the null hypothesis\")\n",
    "else:\n",
    "  print(\"which is bigger than alpha value (5%), then we fail to reject the null hypothesis\")"
   ]
  },
  {
   "cell_type": "markdown",
   "id": "73cbc23a",
   "metadata": {},
   "source": [
    "### Exercici 2\n",
    "#### Continua amb el conjunt de dades de tema esportiu que t'agradi i selecciona dos altres atributs del conjunt de dades. Calcula els p-valors i digues si rebutgen la hipòtesi nul·la agafant un alfa de 5%."
   ]
  },
  {
   "cell_type": "code",
   "execution_count": 22,
   "id": "a14dbef0",
   "metadata": {},
   "outputs": [
    {
     "name": "stdout",
     "output_type": "stream",
     "text": [
      "The T-score is=-1.363, and the p-value is=0.189\n",
      "the probability to obtain this T-score is 18.876 %\n",
      "which is bigger than alpha value (5%), then we fail to reject the null hypothesis\n"
     ]
    },
    {
     "data": {
      "image/png": "[encoded data removed]",
      "text/plain": [
       "<Figure size 360x360 with 1 Axes>"
      ]
     },
     "metadata": {
      "needs_background": "light"
     },
     "output_type": "display_data"
    }
   ],
   "source": [
    "#we want to check the hypothesis that says that are more winners at 30 years old\n",
    "#hypothesis 0: winners = yes + age = 30 \n",
    "#hypothesis 1: winners = yes + age < 30\n",
    "\n",
    "#selecting data from only winners and their ages\n",
    "df_redwinner = df_ufc[df_ufc.Winner == 'Red']['R_age']\n",
    "df_bluewinner = df_ufc[df_ufc.Winner == 'Blue']['B_age']\n",
    "df_winners = pd.concat([df_redwinner, df_bluewinner], ignore_index=True, sort=False)\n",
    "\n",
    "#removing nan data\n",
    "df_winners = df_winners.dropna()\n",
    "\n",
    "#plotting data to check if it is a normal distribution\n",
    "fig = sns.displot(data=df_winners, kde=True, binwidth=1)\n",
    "fig.set(title='Data Distribution', xlabel='Age', ylabel='Count')\n",
    "\n",
    "#taking a sample (20 observations)\n",
    "df_winsample = df_winners.sample(20)\n",
    "\n",
    "#applying T-Test to obtain p-value\n",
    "stat, pval = scipy.stats.ttest_1samp(df_winsample, 30)\n",
    "pct = round(float(pval*100),3)\n",
    "\n",
    "print('The T-score is=%.3f, and the p-value is=%.3f' % (stat,pval))\n",
    "\n",
    "#according to p value, if alpha value is 0.05 or 5%\n",
    "\n",
    "print('the probability to obtain this T-score is',pct,'%')\n",
    "if pval < 0.05:    \n",
    "   print(\"which is smaller than alpha (5%), then we reject the null hypothesis\")\n",
    "else:\n",
    "  print(\"which is bigger than alpha value (5%), then we fail to reject the null hypothesis\")"
   ]
  },
  {
   "cell_type": "markdown",
   "id": "09ba5f0a",
   "metadata": {},
   "source": [
    "### Exercici 3\n",
    "#### Continua amb el conjunt de dades de tema esportiu que t'agradi i selecciona tres atributs del conjunt de dades. Calcula el p-valor i digues si rebutja la hipòtesi nul·la agafant un alfa de 5%."
   ]
  },
  {
   "cell_type": "code",
   "execution_count": 21,
   "id": "5e4f3196",
   "metadata": {},
   "outputs": [
    {
     "name": "stdout",
     "output_type": "stream",
     "text": [
      "The T-score is=0.474, and the p-value is=0.641\n",
      "the probability to obtain this T-score is 64.097 %\n",
      "which is bigger than alpha value (5%), then we fail to reject the null hypothesis\n"
     ]
    },
    {
     "data": {
      "image/png": "[encoded data removed]",
      "text/plain": [
       "<Figure size 360x360 with 1 Axes>"
      ]
     },
     "metadata": {
      "needs_background": "light"
     },
     "output_type": "display_data"
    }
   ],
   "source": [
    "#we want to check the hypothesis that fighters from lightweight category and reach 179 are best fighters \n",
    "#hypothesis 0: category = lightweight winners = yes reach = 179\n",
    "#hypothesis 1: category = lightweight winners = yes reach > 179\n",
    "\n",
    "#selecting data from winners from category lightweight\n",
    "df_redwinlight = df_ufc[(df_ufc.Winner == 'Red')&(df_ufc.weight_class == 'Lightweight')]\n",
    "df_bluewinlight = df_ufc[(df_ufc.Winner == 'Blue')&(df_ufc.weight_class == 'Lightweight')]\n",
    "df_winlight = pd.concat([df_redwinlight['R_Reach_cms'], df_bluewinlight['B_Reach_cms']], ignore_index=True, sort=False)\n",
    "\n",
    "#removing nan data and rounding\n",
    "df_winlight = df_winlight.dropna()\n",
    "df_winlight = df_winlight.round(decimals=0)\n",
    "\n",
    "#plotting data to check if it is a normal distribution\n",
    "fig = sns.displot(data=df_winlight, kde=True, binwidth=1)\n",
    "fig.set(title='Data Distribution', xlabel='Reach (cm)', ylabel='Count')\n",
    "#we can observe that some reachs are not represented, probably because incorrect conversion from feet and inches to cm\n",
    "\n",
    "#sampling (20 observations)\n",
    "df_winlightsample = df_winlight.sample(20)\n",
    "\n",
    "#applying T-Test to obtain p-value\n",
    "stat, pval = scipy.stats.ttest_1samp(df_winlightsample, 179)\n",
    "pct = round(float(pval*100),3)\n",
    "\n",
    "print('The T-score is=%.3f, and the p-value is=%.3f' % (stat,pval))\n",
    "\n",
    "#according to p value, if alpha value is 0.05 or 5%\n",
    "\n",
    "print('the probability to obtain this T-score is',pct,'%')\n",
    "if pval < 0.05:    \n",
    "   print(\"which is smaller than alpha (5%), then we reject the null hypothesis\")\n",
    "else:\n",
    "  print(\"which is bigger than alpha value (5%), then we fail to reject the null hypothesis\")"
   ]
  },
  {
   "cell_type": "code",
   "execution_count": null,
   "id": "96f3c04c",
   "metadata": {},
   "outputs": [],
   "source": []
  }
 ],
 "metadata": {
  "kernelspec": {
   "display_name": "Python 3",
   "language": "python",
   "name": "python3"
  },
  "language_info": {
   "codemirror_mode": {
    "name": "ipython",
    "version": 3
   },
   "file_extension": ".py",
   "mimetype": "text/x-python",
   "name": "python",
   "nbconvert_exporter": "python",
   "pygments_lexer": "ipython3",
   "version": "3.9.1"
  }
 },
 "nbformat": 4,
 "nbformat_minor": 5
}
